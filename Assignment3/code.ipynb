{
 "cells": [
  {
   "cell_type": "markdown",
   "id": "c49f14bc-2329-4f64-8f93-f8b5f31c54d0",
   "metadata": {},
   "source": [
    "# Assignment 3: Cost-Sensitive Regression\n",
    "\n",
    "\n",
    "##### Group Members:\n",
    "1. Kummitha Jhanavi (CS21BTECH11032)\n",
    "2. Potta Vennela (CS21BTECH11046)\n",
    "3. Vinjam Aswitha (MA21BTECH11018)\n",
    "4. Pundi Bindusree (CS21BTECH11048)\n",
    "5. K Vivek Kumar (CS21BTECH11026)"
   ]
  },
  {
   "cell_type": "code",
   "execution_count": 1,
   "id": "8fdd8b13-6a28-4ef0-bd61-918cf6c9b08e",
   "metadata": {},
   "outputs": [],
   "source": [
    "# Necessary Libraries\n",
    "import pandas as pd\n",
    "import numpy as np\n",
    "from sklearn.model_selection import train_test_split\n",
    "import matplotlib.pyplot as plt\n",
    "import seaborn as sns\n",
    "from sklearn.utils import class_weight\n",
    "from sklearn.linear_model import LogisticRegression\n",
    "from sklearn.metrics import confusion_matrix, classification_report, accuracy_score, precision_score, recall_score"
   ]
  },
  {
   "cell_type": "code",
   "execution_count": 2,
   "id": "115f79f6-37c7-4614-8499-5046cca3206c",
   "metadata": {},
   "outputs": [
    {
     "data": {
      "text/html": [
       "<div>\n",
       "<style scoped>\n",
       "    .dataframe tbody tr th:only-of-type {\n",
       "        vertical-align: middle;\n",
       "    }\n",
       "\n",
       "    .dataframe tbody tr th {\n",
       "        vertical-align: top;\n",
       "    }\n",
       "\n",
       "    .dataframe thead th {\n",
       "        text-align: right;\n",
       "    }\n",
       "</style>\n",
       "<table border=\"1\" class=\"dataframe\">\n",
       "  <thead>\n",
       "    <tr style=\"text-align: right;\">\n",
       "      <th></th>\n",
       "      <th>NotCount</th>\n",
       "      <th>YesCount</th>\n",
       "      <th>ATPM</th>\n",
       "      <th>PFD</th>\n",
       "      <th>PFG</th>\n",
       "      <th>SFD</th>\n",
       "      <th>SFG</th>\n",
       "      <th>WP</th>\n",
       "      <th>WS</th>\n",
       "      <th>AH</th>\n",
       "      <th>AN</th>\n",
       "      <th>Status</th>\n",
       "      <th>FNC</th>\n",
       "    </tr>\n",
       "  </thead>\n",
       "  <tbody>\n",
       "    <tr>\n",
       "      <th>0</th>\n",
       "      <td>2</td>\n",
       "      <td>21</td>\n",
       "      <td>0.0</td>\n",
       "      <td>0.000</td>\n",
       "      <td>0.0</td>\n",
       "      <td>0.0</td>\n",
       "      <td>0.0</td>\n",
       "      <td>0.000000</td>\n",
       "      <td>0.0</td>\n",
       "      <td>0.0</td>\n",
       "      <td>0.0</td>\n",
       "      <td>0</td>\n",
       "      <td>0.0</td>\n",
       "    </tr>\n",
       "    <tr>\n",
       "      <th>1</th>\n",
       "      <td>23</td>\n",
       "      <td>0</td>\n",
       "      <td>0.0</td>\n",
       "      <td>0.044</td>\n",
       "      <td>0.0</td>\n",
       "      <td>0.0</td>\n",
       "      <td>0.0</td>\n",
       "      <td>0.306179</td>\n",
       "      <td>0.0</td>\n",
       "      <td>0.0</td>\n",
       "      <td>0.0</td>\n",
       "      <td>1</td>\n",
       "      <td>0.0</td>\n",
       "    </tr>\n",
       "    <tr>\n",
       "      <th>2</th>\n",
       "      <td>1</td>\n",
       "      <td>22</td>\n",
       "      <td>0.0</td>\n",
       "      <td>0.000</td>\n",
       "      <td>0.0</td>\n",
       "      <td>0.0</td>\n",
       "      <td>0.0</td>\n",
       "      <td>0.000000</td>\n",
       "      <td>0.0</td>\n",
       "      <td>0.0</td>\n",
       "      <td>0.0</td>\n",
       "      <td>0</td>\n",
       "      <td>0.0</td>\n",
       "    </tr>\n",
       "    <tr>\n",
       "      <th>3</th>\n",
       "      <td>5</td>\n",
       "      <td>18</td>\n",
       "      <td>0.0</td>\n",
       "      <td>0.000</td>\n",
       "      <td>0.0</td>\n",
       "      <td>0.0</td>\n",
       "      <td>0.0</td>\n",
       "      <td>0.000000</td>\n",
       "      <td>0.0</td>\n",
       "      <td>0.0</td>\n",
       "      <td>0.0</td>\n",
       "      <td>1</td>\n",
       "      <td>0.0</td>\n",
       "    </tr>\n",
       "    <tr>\n",
       "      <th>4</th>\n",
       "      <td>1</td>\n",
       "      <td>22</td>\n",
       "      <td>0.0</td>\n",
       "      <td>0.000</td>\n",
       "      <td>0.0</td>\n",
       "      <td>0.0</td>\n",
       "      <td>0.0</td>\n",
       "      <td>0.000000</td>\n",
       "      <td>0.0</td>\n",
       "      <td>0.0</td>\n",
       "      <td>0.0</td>\n",
       "      <td>0</td>\n",
       "      <td>0.0</td>\n",
       "    </tr>\n",
       "  </tbody>\n",
       "</table>\n",
       "</div>"
      ],
      "text/plain": [
       "   NotCount  YesCount  ATPM    PFD  PFG  SFD  SFG        WP   WS   AH   AN  \\\n",
       "0         2        21   0.0  0.000  0.0  0.0  0.0  0.000000  0.0  0.0  0.0   \n",
       "1        23         0   0.0  0.044  0.0  0.0  0.0  0.306179  0.0  0.0  0.0   \n",
       "2         1        22   0.0  0.000  0.0  0.0  0.0  0.000000  0.0  0.0  0.0   \n",
       "3         5        18   0.0  0.000  0.0  0.0  0.0  0.000000  0.0  0.0  0.0   \n",
       "4         1        22   0.0  0.000  0.0  0.0  0.0  0.000000  0.0  0.0  0.0   \n",
       "\n",
       "   Status  FNC  \n",
       "0       0  0.0  \n",
       "1       1  0.0  \n",
       "2       0  0.0  \n",
       "3       1  0.0  \n",
       "4       0  0.0  "
      ]
     },
     "execution_count": 2,
     "metadata": {},
     "output_type": "execute_result"
    }
   ],
   "source": [
    "# Loading the dataset\n",
    "data = pd.read_csv('costsensitiveregression.csv')\n",
    "data.head()"
   ]
  },
  {
   "cell_type": "code",
   "execution_count": 3,
   "id": "724a8b5f-ce8f-4e67-a8d4-dabcfe656a5b",
   "metadata": {},
   "outputs": [
    {
     "name": "stdout",
     "output_type": "stream",
     "text": [
      "<class 'pandas.core.frame.DataFrame'>\n",
      "RangeIndex: 147636 entries, 0 to 147635\n",
      "Data columns (total 13 columns):\n",
      " #   Column    Non-Null Count   Dtype  \n",
      "---  ------    --------------   -----  \n",
      " 0   NotCount  147636 non-null  int64  \n",
      " 1   YesCount  147636 non-null  int64  \n",
      " 2   ATPM      147636 non-null  float64\n",
      " 3   PFD       147636 non-null  float64\n",
      " 4   PFG       147636 non-null  float64\n",
      " 5   SFD       147636 non-null  float64\n",
      " 6   SFG       147636 non-null  float64\n",
      " 7   WP        147636 non-null  float64\n",
      " 8   WS        147636 non-null  float64\n",
      " 9   AH        147636 non-null  float64\n",
      " 10  AN        147636 non-null  float64\n",
      " 11  Status    147636 non-null  int64  \n",
      " 12  FNC       147636 non-null  float64\n",
      "dtypes: float64(10), int64(3)\n",
      "memory usage: 14.6 MB\n"
     ]
    }
   ],
   "source": [
    "data.info()"
   ]
  },
  {
   "cell_type": "code",
   "execution_count": 4,
   "id": "8abb5800-3f08-4bdb-827c-f59abfeb606b",
   "metadata": {},
   "outputs": [
    {
     "data": {
      "image/png": "[encoded data removed]",
      "text/plain": [
       "<Figure size 300x600 with 1 Axes>"
      ]
     },
     "metadata": {},
     "output_type": "display_data"
    }
   ],
   "source": [
    "# Create a boxplot to visualize the distribution of the 'WP' (Weighted Percentage) variable\n",
    "plt.figure(figsize=(3, 6))\n",
    "sns.boxplot(data=data['WP'], orient='v')\n",
    "plt.title('Boxplot of Weighted Percentage (WP)')\n",
    "plt.ylabel('WP')\n",
    "plt.savefig(\"a3pd1.png\")\n",
    "plt.show()"
   ]
  },
  {
   "cell_type": "code",
   "execution_count": 5,
   "id": "e5462a7e-aeeb-4075-8b41-cd8659ef5966",
   "metadata": {},
   "outputs": [
    {
     "data": {
      "image/png": "[encoded data removed]",
      "text/plain": [
       "<Figure size 1000x600 with 1 Axes>"
      ]
     },
     "metadata": {},
     "output_type": "display_data"
    }
   ],
   "source": [
    "# Create a scatter plot to visualize the relationship between 'NotCount' and 'YesCount', colored by 'Status'\n",
    "plt.figure(figsize=(10, 6))\n",
    "sns.scatterplot(x='NotCount', y='YesCount', hue='Status', data=data)\n",
    "plt.title('Scatter Plot of YesCount vs. NotCount (Colored by Status)')\n",
    "plt.xlabel('NotCount')\n",
    "plt.ylabel('YesCount')\n",
    "plt.legend(title='Status')\n",
    "plt.savefig(\"a3pd2.png\")\n",
    "plt.show()"
   ]
  },
  {
   "cell_type": "code",
   "execution_count": 6,
   "id": "a3ddf110-8a45-47e6-abab-058d2918cbac",
   "metadata": {},
   "outputs": [],
   "source": [
    "# Extracting independent column data\n",
    "X = data[['NotCount', 'YesCount', 'ATPM', 'PFD', 'PFG', 'SFD', 'SFG', 'WP', 'WS', 'AH', 'AN']]\n",
    "\n",
    "# Extracting the dependent column data\n",
    "y = data['Status']"
   ]
  },
  {
   "cell_type": "code",
   "execution_count": 7,
   "id": "b82dbb8b-b8ec-4e76-83ff-6f4d7a51a83c",
   "metadata": {},
   "outputs": [],
   "source": [
    "# Initialising seed\n",
    "np.random.seed(42)"
   ]
  },
  {
   "cell_type": "code",
   "execution_count": 8,
   "id": "a960bbc9-5fc3-43dd-863c-2ddedee09e83",
   "metadata": {},
   "outputs": [],
   "source": [
    "# Extracting the false negatives cost\n",
    "false_negative_costs = data['FNC']"
   ]
  },
  {
   "cell_type": "code",
   "execution_count": 9,
   "id": "1748969b-b734-4147-be7e-68a828479d6d",
   "metadata": {},
   "outputs": [],
   "source": [
    "X_train, X_test, y_train, y_test, FNC_train, FNC_test = train_test_split(X, y, false_negative_costs, test_size=0.2)"
   ]
  },
  {
   "cell_type": "code",
   "execution_count": 10,
   "id": "ab86a122-cd78-475c-b189-4fef39c2dbf9",
   "metadata": {},
   "outputs": [],
   "source": [
    "# Calculate class weights for cost-sensitive learning\n",
    "class_weights = class_weight.compute_class_weight('balanced', classes=np.unique(y_train), y=y_train)"
   ]
  },
  {
   "cell_type": "markdown",
   "id": "d9296d5c-c0a2-4f44-a663-2cc176051b9d",
   "metadata": {},
   "source": [
    "## Bahnsen's Approach"
   ]
  },
  {
   "cell_type": "code",
   "execution_count": 11,
   "id": "a05ffdf6-c5cf-42ad-ad2d-61a4e214951e",
   "metadata": {},
   "outputs": [
    {
     "data": {
      "text/html": [
       "<style>#sk-container-id-1 {color: black;}#sk-container-id-1 pre{padding: 0;}#sk-container-id-1 div.sk-toggleable {background-color: white;}#sk-container-id-1 label.sk-toggleable__label {cursor: pointer;display: block;width: 100%;margin-bottom: 0;padding: 0.3em;box-sizing: border-box;text-align: center;}#sk-container-id-1 label.sk-toggleable__label-arrow:before {content: \"▸\";float: left;margin-right: 0.25em;color: #696969;}#sk-container-id-1 label.sk-toggleable__label-arrow:hover:before {color: black;}#sk-container-id-1 div.sk-estimator:hover label.sk-toggleable__label-arrow:before {color: black;}#sk-container-id-1 div.sk-toggleable__content {max-height: 0;max-width: 0;overflow: hidden;text-align: left;background-color: #f0f8ff;}#sk-container-id-1 div.sk-toggleable__content pre {margin: 0.2em;color: black;border-radius: 0.25em;background-color: #f0f8ff;}#sk-container-id-1 input.sk-toggleable__control:checked~div.sk-toggleable__content {max-height: 200px;max-width: 100%;overflow: auto;}#sk-container-id-1 input.sk-toggleable__control:checked~label.sk-toggleable__label-arrow:before {content: \"▾\";}#sk-container-id-1 div.sk-estimator input.sk-toggleable__control:checked~label.sk-toggleable__label {background-color: #d4ebff;}#sk-container-id-1 div.sk-label input.sk-toggleable__control:checked~label.sk-toggleable__label {background-color: #d4ebff;}#sk-container-id-1 input.sk-hidden--visually {border: 0;clip: rect(1px 1px 1px 1px);clip: rect(1px, 1px, 1px, 1px);height: 1px;margin: -1px;overflow: hidden;padding: 0;position: absolute;width: 1px;}#sk-container-id-1 div.sk-estimator {font-family: monospace;background-color: #f0f8ff;border: 1px dotted black;border-radius: 0.25em;box-sizing: border-box;margin-bottom: 0.5em;}#sk-container-id-1 div.sk-estimator:hover {background-color: #d4ebff;}#sk-container-id-1 div.sk-parallel-item::after {content: \"\";width: 100%;border-bottom: 1px solid gray;flex-grow: 1;}#sk-container-id-1 div.sk-label:hover label.sk-toggleable__label {background-color: #d4ebff;}#sk-container-id-1 div.sk-serial::before {content: \"\";position: absolute;border-left: 1px solid gray;box-sizing: border-box;top: 0;bottom: 0;left: 50%;z-index: 0;}#sk-container-id-1 div.sk-serial {display: flex;flex-direction: column;align-items: center;background-color: white;padding-right: 0.2em;padding-left: 0.2em;position: relative;}#sk-container-id-1 div.sk-item {position: relative;z-index: 1;}#sk-container-id-1 div.sk-parallel {display: flex;align-items: stretch;justify-content: center;background-color: white;position: relative;}#sk-container-id-1 div.sk-item::before, #sk-container-id-1 div.sk-parallel-item::before {content: \"\";position: absolute;border-left: 1px solid gray;box-sizing: border-box;top: 0;bottom: 0;left: 50%;z-index: -1;}#sk-container-id-1 div.sk-parallel-item {display: flex;flex-direction: column;z-index: 1;position: relative;background-color: white;}#sk-container-id-1 div.sk-parallel-item:first-child::after {align-self: flex-end;width: 50%;}#sk-container-id-1 div.sk-parallel-item:last-child::after {align-self: flex-start;width: 50%;}#sk-container-id-1 div.sk-parallel-item:only-child::after {width: 0;}#sk-container-id-1 div.sk-dashed-wrapped {border: 1px dashed gray;margin: 0 0.4em 0.5em 0.4em;box-sizing: border-box;padding-bottom: 0.4em;background-color: white;}#sk-container-id-1 div.sk-label label {font-family: monospace;font-weight: bold;display: inline-block;line-height: 1.2em;}#sk-container-id-1 div.sk-label-container {text-align: center;}#sk-container-id-1 div.sk-container {/* jupyter's `normalize.less` sets `[hidden] { display: none; }` but bootstrap.min.css set `[hidden] { display: none !important; }` so we also need the `!important` here to be able to override the default hidden behavior on the sphinx rendered scikit-learn.org. See: https://github.com/scikit-learn/scikit-learn/issues/21755 */display: inline-block !important;position: relative;}#sk-container-id-1 div.sk-text-repr-fallback {display: none;}</style><div id=\"sk-container-id-1\" class=\"sk-top-container\"><div class=\"sk-text-repr-fallback\"><pre>LogisticRegression(class_weight={0: 0.7128079471797409, 1: 1.6747681574544113},\n",
       "                   max_iter=1000)</pre><b>In a Jupyter environment, please rerun this cell to show the HTML representation or trust the notebook. <br />On GitHub, the HTML representation is unable to render, please try loading this page with nbviewer.org.</b></div><div class=\"sk-container\" hidden><div class=\"sk-item\"><div class=\"sk-estimator sk-toggleable\"><input class=\"sk-toggleable__control sk-hidden--visually\" id=\"sk-estimator-id-1\" type=\"checkbox\" checked><label for=\"sk-estimator-id-1\" class=\"sk-toggleable__label sk-toggleable__label-arrow\">LogisticRegression</label><div class=\"sk-toggleable__content\"><pre>LogisticRegression(class_weight={0: 0.7128079471797409, 1: 1.6747681574544113},\n",
       "                   max_iter=1000)</pre></div></div></div></div></div>"
      ],
      "text/plain": [
       "LogisticRegression(class_weight={0: 0.7128079471797409, 1: 1.6747681574544113},\n",
       "                   max_iter=1000)"
      ]
     },
     "execution_count": 11,
     "metadata": {},
     "output_type": "execute_result"
    }
   ],
   "source": [
    "# Implement Bahnsen's approach\n",
    "bahnsen_model = LogisticRegression(class_weight={0: class_weights[0], 1: class_weights[1]}, solver='lbfgs', max_iter=1000)\n",
    "bahnsen_model.fit(X_train, y_train)"
   ]
  },
  {
   "cell_type": "code",
   "execution_count": 12,
   "id": "2ef131a6-15bf-49e4-b723-64801836a5ef",
   "metadata": {},
   "outputs": [],
   "source": [
    "# Predict on test data using Bahnsen's approach\n",
    "bahnsen_y_pred = bahnsen_model.predict(X_test)"
   ]
  },
  {
   "cell_type": "code",
   "execution_count": 13,
   "id": "34080402-0dbd-4d32-974a-e7fe7d59fbdf",
   "metadata": {},
   "outputs": [
    {
     "name": "stdout",
     "output_type": "stream",
     "text": [
      "Evaluation Metrics for Bahnsen's Approach:\n",
      "Accuracy: 0.8578298564074777\n",
      "Precision: 0.737149892274546\n",
      "Recall: 0.8145334996032196\n"
     ]
    }
   ],
   "source": [
    "# Evaluate Bahnsen's model performance\n",
    "bahnsen_accuracy = accuracy_score(y_test, bahnsen_y_pred)\n",
    "bahnsen_precision = precision_score(y_test, bahnsen_y_pred)\n",
    "bahnsen_recall = recall_score(y_test, bahnsen_y_pred)\n",
    "\n",
    "print(\"Evaluation Metrics for Bahnsen's Approach:\")\n",
    "print(\"Accuracy:\", bahnsen_accuracy)\n",
    "print(\"Precision:\", bahnsen_precision)\n",
    "print(\"Recall:\", bahnsen_recall)"
   ]
  },
  {
   "cell_type": "code",
   "execution_count": 14,
   "id": "a3ef72aa-9c40-44bf-b0b4-25a93a05d8b9",
   "metadata": {},
   "outputs": [],
   "source": [
    "bahnsen_cm = confusion_matrix(y_test, bahnsen_y_pred)\n",
    "bahnsen_cr = classification_report(y_test, bahnsen_y_pred)"
   ]
  },
  {
   "cell_type": "code",
   "execution_count": 15,
   "id": "80e930ff-06c9-4242-9b92-40b521a5acab",
   "metadata": {},
   "outputs": [
    {
     "name": "stdout",
     "output_type": "stream",
     "text": [
      "Bahsen's Approach Confusion Matrix is:\n",
      " [[18145  2562]\n",
      " [ 1636  7185]] \n",
      "\n",
      "Bahsen's Approach Classification Report is:\n",
      "               precision    recall  f1-score   support\n",
      "\n",
      "           0       0.92      0.88      0.90     20707\n",
      "           1       0.74      0.81      0.77      8821\n",
      "\n",
      "    accuracy                           0.86     29528\n",
      "   macro avg       0.83      0.85      0.84     29528\n",
      "weighted avg       0.86      0.86      0.86     29528\n",
      "\n"
     ]
    }
   ],
   "source": [
    "print(\"Bahsen's Approach Confusion Matrix is:\\n\", bahnsen_cm, \"\\n\")\n",
    "print(\"Bahsen's Approach Classification Report is:\\n\", bahnsen_cr)"
   ]
  },
  {
   "cell_type": "markdown",
   "id": "7fe00f24-0639-4b03-a662-b78018609dd9",
   "metadata": {},
   "source": [
    "## Nikou - Gunnemann's Approach"
   ]
  },
  {
   "cell_type": "code",
   "execution_count": 16,
   "id": "9d8b5564-6cb1-4e4d-8d4d-d9f38c9547f3",
   "metadata": {},
   "outputs": [
    {
     "data": {
      "text/html": [
       "<style>#sk-container-id-2 {color: black;}#sk-container-id-2 pre{padding: 0;}#sk-container-id-2 div.sk-toggleable {background-color: white;}#sk-container-id-2 label.sk-toggleable__label {cursor: pointer;display: block;width: 100%;margin-bottom: 0;padding: 0.3em;box-sizing: border-box;text-align: center;}#sk-container-id-2 label.sk-toggleable__label-arrow:before {content: \"▸\";float: left;margin-right: 0.25em;color: #696969;}#sk-container-id-2 label.sk-toggleable__label-arrow:hover:before {color: black;}#sk-container-id-2 div.sk-estimator:hover label.sk-toggleable__label-arrow:before {color: black;}#sk-container-id-2 div.sk-toggleable__content {max-height: 0;max-width: 0;overflow: hidden;text-align: left;background-color: #f0f8ff;}#sk-container-id-2 div.sk-toggleable__content pre {margin: 0.2em;color: black;border-radius: 0.25em;background-color: #f0f8ff;}#sk-container-id-2 input.sk-toggleable__control:checked~div.sk-toggleable__content {max-height: 200px;max-width: 100%;overflow: auto;}#sk-container-id-2 input.sk-toggleable__control:checked~label.sk-toggleable__label-arrow:before {content: \"▾\";}#sk-container-id-2 div.sk-estimator input.sk-toggleable__control:checked~label.sk-toggleable__label {background-color: #d4ebff;}#sk-container-id-2 div.sk-label input.sk-toggleable__control:checked~label.sk-toggleable__label {background-color: #d4ebff;}#sk-container-id-2 input.sk-hidden--visually {border: 0;clip: rect(1px 1px 1px 1px);clip: rect(1px, 1px, 1px, 1px);height: 1px;margin: -1px;overflow: hidden;padding: 0;position: absolute;width: 1px;}#sk-container-id-2 div.sk-estimator {font-family: monospace;background-color: #f0f8ff;border: 1px dotted black;border-radius: 0.25em;box-sizing: border-box;margin-bottom: 0.5em;}#sk-container-id-2 div.sk-estimator:hover {background-color: #d4ebff;}#sk-container-id-2 div.sk-parallel-item::after {content: \"\";width: 100%;border-bottom: 1px solid gray;flex-grow: 1;}#sk-container-id-2 div.sk-label:hover label.sk-toggleable__label {background-color: #d4ebff;}#sk-container-id-2 div.sk-serial::before {content: \"\";position: absolute;border-left: 1px solid gray;box-sizing: border-box;top: 0;bottom: 0;left: 50%;z-index: 0;}#sk-container-id-2 div.sk-serial {display: flex;flex-direction: column;align-items: center;background-color: white;padding-right: 0.2em;padding-left: 0.2em;position: relative;}#sk-container-id-2 div.sk-item {position: relative;z-index: 1;}#sk-container-id-2 div.sk-parallel {display: flex;align-items: stretch;justify-content: center;background-color: white;position: relative;}#sk-container-id-2 div.sk-item::before, #sk-container-id-2 div.sk-parallel-item::before {content: \"\";position: absolute;border-left: 1px solid gray;box-sizing: border-box;top: 0;bottom: 0;left: 50%;z-index: -1;}#sk-container-id-2 div.sk-parallel-item {display: flex;flex-direction: column;z-index: 1;position: relative;background-color: white;}#sk-container-id-2 div.sk-parallel-item:first-child::after {align-self: flex-end;width: 50%;}#sk-container-id-2 div.sk-parallel-item:last-child::after {align-self: flex-start;width: 50%;}#sk-container-id-2 div.sk-parallel-item:only-child::after {width: 0;}#sk-container-id-2 div.sk-dashed-wrapped {border: 1px dashed gray;margin: 0 0.4em 0.5em 0.4em;box-sizing: border-box;padding-bottom: 0.4em;background-color: white;}#sk-container-id-2 div.sk-label label {font-family: monospace;font-weight: bold;display: inline-block;line-height: 1.2em;}#sk-container-id-2 div.sk-label-container {text-align: center;}#sk-container-id-2 div.sk-container {/* jupyter's `normalize.less` sets `[hidden] { display: none; }` but bootstrap.min.css set `[hidden] { display: none !important; }` so we also need the `!important` here to be able to override the default hidden behavior on the sphinx rendered scikit-learn.org. See: https://github.com/scikit-learn/scikit-learn/issues/21755 */display: inline-block !important;position: relative;}#sk-container-id-2 div.sk-text-repr-fallback {display: none;}</style><div id=\"sk-container-id-2\" class=\"sk-top-container\"><div class=\"sk-text-repr-fallback\"><pre>LogisticRegression(class_weight={0: 0.7128079471797409, 1: 1.6747681574544113},\n",
       "                   max_iter=1000)</pre><b>In a Jupyter environment, please rerun this cell to show the HTML representation or trust the notebook. <br />On GitHub, the HTML representation is unable to render, please try loading this page with nbviewer.org.</b></div><div class=\"sk-container\" hidden><div class=\"sk-item\"><div class=\"sk-estimator sk-toggleable\"><input class=\"sk-toggleable__control sk-hidden--visually\" id=\"sk-estimator-id-2\" type=\"checkbox\" checked><label for=\"sk-estimator-id-2\" class=\"sk-toggleable__label sk-toggleable__label-arrow\">LogisticRegression</label><div class=\"sk-toggleable__content\"><pre>LogisticRegression(class_weight={0: 0.7128079471797409, 1: 1.6747681574544113},\n",
       "                   max_iter=1000)</pre></div></div></div></div></div>"
      ],
      "text/plain": [
       "LogisticRegression(class_weight={0: 0.7128079471797409, 1: 1.6747681574544113},\n",
       "                   max_iter=1000)"
      ]
     },
     "execution_count": 16,
     "metadata": {},
     "output_type": "execute_result"
    }
   ],
   "source": [
    "nikou_gunnemann_model = LogisticRegression(class_weight={0: class_weights[0], 1: class_weights[1]}, solver='lbfgs', max_iter=1000)\n",
    "nikou_gunnemann_model.fit(X_train, y_train)"
   ]
  },
  {
   "cell_type": "code",
   "execution_count": 17,
   "id": "fe7f8d88-bd24-45e3-86a7-3e6e440b1952",
   "metadata": {},
   "outputs": [],
   "source": [
    "nikou_gunnemann_y_pred = nikou_gunnemann_model.predict(X_test)"
   ]
  },
  {
   "cell_type": "code",
   "execution_count": 18,
   "id": "a1da517b-ae9b-4b8b-ab33-03d3a4f507b9",
   "metadata": {},
   "outputs": [],
   "source": [
    "nikou_gunnemann_cm = confusion_matrix(y_test, nikou_gunnemann_y_pred)\n",
    "nikou_gunnemann_cr = classification_report(y_test, nikou_gunnemann_y_pred)"
   ]
  },
  {
   "cell_type": "code",
   "execution_count": 19,
   "id": "84c3a8f9-523b-40c0-bd46-c16f58e54c62",
   "metadata": {},
   "outputs": [
    {
     "name": "stdout",
     "output_type": "stream",
     "text": [
      "Nikou-Gunnemann's Approach:\n",
      "Confusion Matrix:\n",
      "[[18145  2562]\n",
      " [ 1636  7185]]\n",
      "\n",
      "Classification Report:\n",
      "              precision    recall  f1-score   support\n",
      "\n",
      "           0       0.92      0.88      0.90     20707\n",
      "           1       0.74      0.81      0.77      8821\n",
      "\n",
      "    accuracy                           0.86     29528\n",
      "   macro avg       0.83      0.85      0.84     29528\n",
      "weighted avg       0.86      0.86      0.86     29528\n",
      "\n"
     ]
    }
   ],
   "source": [
    "print(\"Nikou-Gunnemann's Approach:\")\n",
    "print(\"Confusion Matrix:\")\n",
    "print(nikou_gunnemann_cm)\n",
    "print(\"\\nClassification Report:\")\n",
    "print(nikou_gunnemann_cr)"
   ]
  },
  {
   "cell_type": "code",
   "execution_count": null,
   "id": "9d3f8d87-cd73-4de0-85ed-3c3b6a4edfa7",
   "metadata": {},
   "outputs": [],
   "source": []
  }
 ],
 "metadata": {
  "kernelspec": {
   "display_name": "Python 3 (ipykernel)",
   "language": "python",
   "name": "python3"
  },
  "language_info": {
   "codemirror_mode": {
    "name": "ipython",
    "version": 3
   },
   "file_extension": ".py",
   "mimetype": "text/x-python",
   "name": "python",
   "nbconvert_exporter": "python",
   "pygments_lexer": "ipython3",
   "version": "3.8.19"
  }
 },
 "nbformat": 4,
 "nbformat_minor": 5
}
